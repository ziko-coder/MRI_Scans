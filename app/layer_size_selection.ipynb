{
 "cells": [
  {
   "cell_type": "code",
   "execution_count": 7,
   "metadata": {
    "collapsed": true,
    "ExecuteTime": {
     "end_time": "2023-10-01T18:56:01.351631100Z",
     "start_time": "2023-10-01T18:56:01.343392700Z"
    }
   },
   "outputs": [],
   "source": [
    "import numpy as np\n",
    "import cv2\n",
    "\n",
    "import os\n",
    "import random\n",
    "import pickle\n",
    "import time\n",
    "\n",
    "from sklearn.model_selection import train_test_split\n",
    "import matplotlib.pyplot as plt\n",
    "\n",
    "import tensorflow as tf\n",
    "from tensorflow.keras.models import Sequential\n",
    "from tensorflow.keras.layers import Dense, Dropout, Activation, Flatten\n",
    "from tensorflow.keras.layers import Conv2D, MaxPooling2D, AveragePooling2D\n",
    "from keras import regularizers\n",
    "from tensorflow.keras.callbacks import TensorBoard\n",
    "\n",
    "from tensorflow.keras.optimizers.schedules import ExponentialDecay\n",
    "from tensorflow.keras.optimizers import Adam\n"
   ]
  },
  {
   "cell_type": "code",
   "execution_count": 3,
   "outputs": [],
   "source": [
    "pickle_X_in = open(\"X.pickle\", \"rb\")\n",
    "X = pickle.load(pickle_X_in)\n",
    "\n",
    "pickle_y_in = open(\"y.pickle\", \"rb\")\n",
    "y = pickle.load(pickle_y_in)\n",
    "\n",
    "X = X/255.0\n",
    "\n",
    "X_train, X_val,y_train, y_val = train_test_split(X, y, test_size=0.1, random_state=241)\n",
    "y_train = np.array(y_train)\n",
    "y_val = np.array(y_val)"
   ],
   "metadata": {
    "collapsed": false,
    "ExecuteTime": {
     "end_time": "2023-10-01T18:55:28.576994Z",
     "start_time": "2023-10-01T18:55:28.530420700Z"
    }
   }
  },
  {
   "cell_type": "markdown",
   "source": [
    "# Find the best layer size"
   ],
   "metadata": {
    "collapsed": false
   }
  },
  {
   "cell_type": "code",
   "execution_count": 8,
   "outputs": [
    {
     "name": "stdout",
     "output_type": "stream",
     "text": [
      "Epoch 1/5\n",
      "6/6 [==============================] - 8s 771ms/step - loss: 1.9753 - accuracy: 0.5341 - val_loss: 1.9323 - val_accuracy: 0.6000\n",
      "Epoch 2/5\n",
      "6/6 [==============================] - 4s 687ms/step - loss: 1.8999 - accuracy: 0.7273 - val_loss: 1.8666 - val_accuracy: 0.6500\n",
      "Epoch 3/5\n",
      "6/6 [==============================] - 4s 713ms/step - loss: 1.8521 - accuracy: 0.7614 - val_loss: 1.8364 - val_accuracy: 0.6000\n",
      "Epoch 4/5\n",
      "6/6 [==============================] - 4s 686ms/step - loss: 1.8075 - accuracy: 0.7216 - val_loss: 1.7478 - val_accuracy: 0.7500\n",
      "Epoch 5/5\n",
      "6/6 [==============================] - 4s 677ms/step - loss: 1.7936 - accuracy: 0.6989 - val_loss: 1.7405 - val_accuracy: 0.7500\n",
      "Epoch 1/5\n",
      "6/6 [==============================] - 13s 2s/step - loss: 3.2141 - accuracy: 0.6250 - val_loss: 3.2337 - val_accuracy: 0.6000\n",
      "Epoch 2/5\n",
      "6/6 [==============================] - 10s 2s/step - loss: 3.1237 - accuracy: 0.6534 - val_loss: 3.0176 - val_accuracy: 0.8000\n",
      "Epoch 3/5\n",
      "6/6 [==============================] - 11s 2s/step - loss: 3.0386 - accuracy: 0.7102 - val_loss: 3.0418 - val_accuracy: 0.6000\n",
      "Epoch 4/5\n",
      "6/6 [==============================] - 11s 2s/step - loss: 2.9663 - accuracy: 0.7727 - val_loss: 2.9189 - val_accuracy: 0.7500\n",
      "Epoch 5/5\n",
      "6/6 [==============================] - 10s 2s/step - loss: 2.9127 - accuracy: 0.7330 - val_loss: 2.8688 - val_accuracy: 0.8000\n",
      "Epoch 1/5\n",
      "6/6 [==============================] - 33s 5s/step - loss: 5.7595 - accuracy: 0.6136 - val_loss: 5.5433 - val_accuracy: 0.8000\n",
      "Epoch 2/5\n",
      "6/6 [==============================] - 27s 4s/step - loss: 5.5140 - accuracy: 0.7273 - val_loss: 5.5870 - val_accuracy: 0.6000\n",
      "Epoch 3/5\n",
      "6/6 [==============================] - 27s 4s/step - loss: 5.4286 - accuracy: 0.7443 - val_loss: 5.2743 - val_accuracy: 0.7500\n",
      "Epoch 4/5\n",
      "6/6 [==============================] - 26s 4s/step - loss: 5.2380 - accuracy: 0.7557 - val_loss: 5.2066 - val_accuracy: 0.7000\n",
      "Epoch 5/5\n",
      "6/6 [==============================] - 27s 4s/step - loss: 5.1065 - accuracy: 0.7614 - val_loss: 5.0583 - val_accuracy: 0.7000\n"
     ]
    }
   ],
   "source": [
    "layer_sizes = [64, 128, 256]\n",
    "\n",
    "for layer_size in layer_sizes:\n",
    "\n",
    "   name = \"{}-layer_size-{}\".format(layer_size, int(time.time()))\n",
    "   model = Sequential([\n",
    "                Conv2D(layer_size, (2, 2), activation=\"tanh\", kernel_regularizer=regularizers.l2(0.01)),\n",
    "                AveragePooling2D(pool_size=(2, 2)),\n",
    "\n",
    "                Conv2D(layer_size, (2, 2), activation=\"tanh\", kernel_regularizer=regularizers.l2(0.01)),\n",
    "                AveragePooling2D(pool_size=(2, 2)),\n",
    "\n",
    "                Conv2D(layer_size, (2, 2), activation=\"tanh\", kernel_regularizer=regularizers.l2(0.01)),\n",
    "                AveragePooling2D(pool_size=(2, 2)),\n",
    "\n",
    "                Flatten(),\n",
    "                Dense(layer_size, activation=\"tanh\"),\n",
    "                Dense(1, activation=\"sigmoid\")\n",
    "   ])\n",
    "\n",
    "   learning_rate_schedule = ExponentialDecay( 0.0001, 1500, 0.8 )\n",
    "\n",
    "   opt = Adam(learning_rate=learning_rate_schedule)\n",
    "\n",
    "   model.compile(\n",
    "        loss='binary_crossentropy',\n",
    "        optimizer=opt,\n",
    "        metrics = ['accuracy']\n",
    "   )\n",
    "   tensorboard = tf.keras.callbacks.TensorBoard(log_dir=\"layer_size_logs/{}\".format(name))\n",
    "   history = model.fit(X_train, y_train, batch_size=32, epochs=5, validation_data=(X_val, y_val), shuffle=True,callbacks=[tensorboard])\n",
    "\n",
    "\n"
   ],
   "metadata": {
    "collapsed": false,
    "ExecuteTime": {
     "end_time": "2023-10-01T18:59:48.155063900Z",
     "start_time": "2023-10-01T18:56:03.656595600Z"
    }
   }
  },
  {
   "cell_type": "markdown",
   "source": [
    "## Conclusion"
   ],
   "metadata": {
    "collapsed": false
   }
  },
  {
   "cell_type": "code",
   "execution_count": 3,
   "outputs": [],
   "source": [
    "'''\n",
    "After examining the graphs provided by Tensorboard, we find that the model performs best with\n",
    "128 neurons in each layer\n",
    "'''"
   ],
   "metadata": {
    "collapsed": false,
    "ExecuteTime": {
     "end_time": "2023-10-01T13:57:44.877531100Z",
     "start_time": "2023-10-01T13:57:44.877531100Z"
    }
   }
  }
 ],
 "metadata": {
  "kernelspec": {
   "display_name": "Python 3",
   "language": "python",
   "name": "python3"
  },
  "language_info": {
   "codemirror_mode": {
    "name": "ipython",
    "version": 2
   },
   "file_extension": ".py",
   "mimetype": "text/x-python",
   "name": "python",
   "nbconvert_exporter": "python",
   "pygments_lexer": "ipython2",
   "version": "2.7.6"
  }
 },
 "nbformat": 4,
 "nbformat_minor": 0
}
