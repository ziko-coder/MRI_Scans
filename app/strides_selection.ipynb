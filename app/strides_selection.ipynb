{
 "cells": [
  {
   "cell_type": "code",
   "execution_count": 1,
   "outputs": [
    {
     "name": "stdout",
     "output_type": "stream",
     "text": [
      "WARNING:tensorflow:From C:\\Users\\PC\\AppData\\Roaming\\Python\\Python311\\site-packages\\tensorflow\\python\\ops\\distributions\\distribution.py:259: ReparameterizationType.__init__ (from tensorflow.python.ops.distributions.distribution) is deprecated and will be removed after 2019-01-01.\n",
      "Instructions for updating:\n",
      "The TensorFlow Distributions library has moved to TensorFlow Probability (https://github.com/tensorflow/probability). You should update all references to use `tfp.distributions` instead of `tf.distributions`.\n",
      "WARNING:tensorflow:From C:\\Users\\PC\\AppData\\Roaming\\Python\\Python311\\site-packages\\tensorflow\\python\\ops\\distributions\\bernoulli.py:165: RegisterKL.__init__ (from tensorflow.python.ops.distributions.kullback_leibler) is deprecated and will be removed after 2019-01-01.\n",
      "Instructions for updating:\n",
      "The TensorFlow Distributions library has moved to TensorFlow Probability (https://github.com/tensorflow/probability). You should update all references to use `tfp.distributions` instead of `tf.distributions`.\n"
     ]
    }
   ],
   "source": [
    "from sklearn.model_selection import train_test_split\n",
    "import matplotlib.pyplot as plt\n",
    "\n",
    "import tensorflow as tf\n",
    "from tensorflow.keras.models import Sequential\n",
    "from tensorflow.keras.layers import Dense, Dropout, Activation, Flatten\n",
    "from tensorflow.keras.layers import Conv2D, MaxPooling2D, AveragePooling2D\n",
    "from keras import regularizers\n",
    "\n",
    "from tensorflow.keras.optimizers.schedules import ExponentialDecay\n",
    "from tensorflow.keras.optimizers import Adam\n",
    "\n",
    "import numpy as np\n",
    "import cv2\n",
    "\n",
    "import os\n",
    "import random\n",
    "import pickle\n",
    "import time"
   ],
   "metadata": {
    "collapsed": false,
    "ExecuteTime": {
     "end_time": "2023-10-01T18:38:34.011891Z",
     "start_time": "2023-10-01T18:38:17.980988Z"
    }
   }
  },
  {
   "cell_type": "code",
   "execution_count": 2,
   "outputs": [],
   "source": [
    "pickle_X_in = open(\"X.pickle\", \"rb\")\n",
    "X = pickle.load(pickle_X_in)\n",
    "\n",
    "pickle_y_in = open(\"y.pickle\", \"rb\")\n",
    "y = pickle.load(pickle_y_in)\n",
    "\n",
    "X = X/255.0\n",
    "\n",
    "X_train, X_val,y_train, y_val = train_test_split(X, y, test_size=0.1, random_state=241)\n",
    "y_train = np.array(y_train)\n",
    "y_val = np.array(y_val)"
   ],
   "metadata": {
    "collapsed": false,
    "ExecuteTime": {
     "end_time": "2023-10-01T18:38:41.196276200Z",
     "start_time": "2023-10-01T18:38:41.128442900Z"
    }
   }
  },
  {
   "cell_type": "markdown",
   "source": [
    "## Find the best stride window"
   ],
   "metadata": {
    "collapsed": false
   }
  },
  {
   "cell_type": "code",
   "execution_count": 3,
   "outputs": [
    {
     "name": "stdout",
     "output_type": "stream",
     "text": [
      "Epoch 1/5\n",
      "6/6 [==============================] - 9s 967ms/step - loss: 1.8409 - accuracy: 0.5284 - val_loss: 1.3986 - val_accuracy: 0.6500\n",
      "Epoch 2/5\n",
      "6/6 [==============================] - 5s 837ms/step - loss: 1.6554 - accuracy: 0.6534 - val_loss: 1.4703 - val_accuracy: 0.6000\n",
      "Epoch 3/5\n",
      "6/6 [==============================] - 5s 906ms/step - loss: 1.4578 - accuracy: 0.7386 - val_loss: 1.4061 - val_accuracy: 0.8000\n",
      "Epoch 4/5\n",
      "6/6 [==============================] - 6s 953ms/step - loss: 1.3769 - accuracy: 0.7898 - val_loss: 1.6088 - val_accuracy: 0.5500\n",
      "Epoch 5/5\n",
      "6/6 [==============================] - 6s 925ms/step - loss: 1.3900 - accuracy: 0.7727 - val_loss: 1.3962 - val_accuracy: 0.6500\n",
      "Epoch 1/5\n",
      "6/6 [==============================] - 8s 966ms/step - loss: 1.5307 - accuracy: 0.5739 - val_loss: 1.4482 - val_accuracy: 0.8000\n",
      "Epoch 2/5\n",
      "6/6 [==============================] - 5s 904ms/step - loss: 1.4625 - accuracy: 0.7273 - val_loss: 1.4342 - val_accuracy: 0.6000\n",
      "Epoch 3/5\n",
      "6/6 [==============================] - 6s 957ms/step - loss: 1.4077 - accuracy: 0.7386 - val_loss: 1.3535 - val_accuracy: 0.8500\n",
      "Epoch 4/5\n",
      "6/6 [==============================] - 5s 896ms/step - loss: 1.3638 - accuracy: 0.7330 - val_loss: 1.3404 - val_accuracy: 0.7500\n",
      "Epoch 5/5\n",
      "6/6 [==============================] - 6s 926ms/step - loss: 1.3252 - accuracy: 0.7557 - val_loss: 1.3079 - val_accuracy: 0.8000\n",
      "Epoch 1/5\n",
      "6/6 [==============================] - 9s 1s/step - loss: 1.5327 - accuracy: 0.5852 - val_loss: 1.5003 - val_accuracy: 0.6000\n",
      "Epoch 2/5\n",
      "6/6 [==============================] - 6s 1s/step - loss: 1.4542 - accuracy: 0.7330 - val_loss: 1.4120 - val_accuracy: 0.6500\n",
      "Epoch 3/5\n",
      "6/6 [==============================] - 7s 1s/step - loss: 1.4112 - accuracy: 0.7273 - val_loss: 1.3525 - val_accuracy: 0.8000\n",
      "Epoch 4/5\n",
      "6/6 [==============================] - 7s 1s/step - loss: 1.3790 - accuracy: 0.7500 - val_loss: 1.3365 - val_accuracy: 0.6500\n",
      "Epoch 5/5\n",
      "6/6 [==============================] - 6s 1s/step - loss: 1.3405 - accuracy: 0.7386 - val_loss: 1.2907 - val_accuracy: 0.7500\n",
      "Epoch 1/5\n",
      "6/6 [==============================] - 11s 2s/step - loss: 1.5661 - accuracy: 0.5341 - val_loss: 1.5482 - val_accuracy: 0.5000\n",
      "Epoch 2/5\n",
      "6/6 [==============================] - 8s 1s/step - loss: 1.4995 - accuracy: 0.6818 - val_loss: 1.4664 - val_accuracy: 0.7500\n",
      "Epoch 3/5\n",
      "6/6 [==============================] - 8s 1s/step - loss: 1.4632 - accuracy: 0.6875 - val_loss: 1.4253 - val_accuracy: 0.6000\n",
      "Epoch 4/5\n",
      "6/6 [==============================] - 8s 1s/step - loss: 1.4097 - accuracy: 0.7273 - val_loss: 1.3718 - val_accuracy: 0.6500\n",
      "Epoch 5/5\n",
      "6/6 [==============================] - 9s 2s/step - loss: 1.3722 - accuracy: 0.7386 - val_loss: 1.3381 - val_accuracy: 0.6500\n",
      "Epoch 1/5\n",
      "6/6 [==============================] - 12s 2s/step - loss: 1.5428 - accuracy: 0.5000 - val_loss: 1.5428 - val_accuracy: 0.5000\n",
      "Epoch 2/5\n",
      "6/6 [==============================] - 9s 2s/step - loss: 1.4842 - accuracy: 0.6023 - val_loss: 1.4604 - val_accuracy: 0.6000\n",
      "Epoch 3/5\n",
      "6/6 [==============================] - 9s 2s/step - loss: 1.4333 - accuracy: 0.7386 - val_loss: 1.4094 - val_accuracy: 0.6000\n",
      "Epoch 4/5\n",
      "6/6 [==============================] - 9s 2s/step - loss: 1.3834 - accuracy: 0.7273 - val_loss: 1.3555 - val_accuracy: 0.6500\n",
      "Epoch 5/5\n",
      "6/6 [==============================] - 9s 2s/step - loss: 1.3475 - accuracy: 0.7102 - val_loss: 1.3196 - val_accuracy: 0.6500\n",
      "Epoch 1/5\n",
      "6/6 [==============================] - 14s 2s/step - loss: 1.5435 - accuracy: 0.5114 - val_loss: 1.5263 - val_accuracy: 0.5000\n",
      "Epoch 2/5\n",
      "6/6 [==============================] - 14s 2s/step - loss: 1.4834 - accuracy: 0.6989 - val_loss: 1.4456 - val_accuracy: 0.7000\n",
      "Epoch 3/5\n",
      "6/6 [==============================] - 12s 2s/step - loss: 1.4192 - accuracy: 0.7216 - val_loss: 1.4336 - val_accuracy: 0.5500\n",
      "Epoch 4/5\n",
      "6/6 [==============================] - 12s 2s/step - loss: 1.3769 - accuracy: 0.6705 - val_loss: 1.3398 - val_accuracy: 0.7000\n",
      "Epoch 5/5\n",
      "6/6 [==============================] - 12s 2s/step - loss: 1.3243 - accuracy: 0.7045 - val_loss: 1.2781 - val_accuracy: 0.8000\n"
     ]
    }
   ],
   "source": [
    "strides = [1, 2, 3, 4, 5, 6]\n",
    "for stride in strides:\n",
    "\n",
    "    name = \"{}-stride-{}\".format(stride, int(time.time()))\n",
    "    model = Sequential([\n",
    "                Conv2D(128, (stride, stride), activation=\"tanh\", kernel_regularizer=regularizers.l2(0.01)),\n",
    "                AveragePooling2D(pool_size=(3, 3)),\n",
    "                Conv2D(64, (stride, stride), activation=\"tanh\", kernel_regularizer=regularizers.l2(0.01)),\n",
    "                AveragePooling2D(pool_size=(stride, stride)),\n",
    "                Flatten(),\n",
    "                Dense(64, activation=\"tanh\"),\n",
    "                Dense(1, activation=\"sigmoid\")\n",
    "            ])\n",
    "\n",
    "    learning_rate_schedule = ExponentialDecay( 0.0001, 1500, 0.8 )\n",
    "\n",
    "    opt = Adam(learning_rate=learning_rate_schedule)\n",
    "\n",
    "    model.compile(\n",
    "        loss='binary_crossentropy',\n",
    "        optimizer=opt,\n",
    "        metrics = ['accuracy']\n",
    "    )\n",
    "    tensorboard = tf.keras.callbacks.TensorBoard(log_dir=\"strides_logs/{}\".format(name))\n",
    "    history = model.fit(X_train, y_train, batch_size=32, epochs=5, validation_data=(X_val, y_val), shuffle=True,callbacks=[tensorboard])"
   ],
   "metadata": {
    "collapsed": false,
    "ExecuteTime": {
     "end_time": "2023-10-01T18:46:39.207304400Z",
     "start_time": "2023-10-01T18:42:23.494748Z"
    }
   }
  },
  {
   "cell_type": "markdown",
   "source": [
    "## Conclusion"
   ],
   "metadata": {
    "collapsed": false
   }
  },
  {
   "cell_type": "code",
   "execution_count": 1,
   "outputs": [
    {
     "data": {
      "text/plain": "'\\nAfter examining the graphs provided by Tensorboard, we find that the model performs best with\\na (2, 2) stride window\\n'"
     },
     "execution_count": 1,
     "metadata": {},
     "output_type": "execute_result"
    }
   ],
   "source": [
    "'''\n",
    "After examining the graphs provided by Tensorboard, we find that the model performs best with\n",
    "a (2, 2) stride window\n",
    "'''"
   ],
   "metadata": {
    "collapsed": false,
    "ExecuteTime": {
     "end_time": "2023-10-01T20:08:41.291076800Z",
     "start_time": "2023-10-01T20:08:39.549517Z"
    }
   }
  }
 ],
 "metadata": {
  "kernelspec": {
   "display_name": "Python 3",
   "language": "python",
   "name": "python3"
  },
  "language_info": {
   "codemirror_mode": {
    "name": "ipython",
    "version": 2
   },
   "file_extension": ".py",
   "mimetype": "text/x-python",
   "name": "python",
   "nbconvert_exporter": "python",
   "pygments_lexer": "ipython2",
   "version": "2.7.6"
  }
 },
 "nbformat": 4,
 "nbformat_minor": 0
}
