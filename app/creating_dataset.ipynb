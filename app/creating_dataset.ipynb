{
 "cells": [
  {
   "cell_type": "raw",
   "source": [],
   "metadata": {
    "collapsed": false
   }
  },
  {
   "cell_type": "code",
   "execution_count": 1,
   "outputs": [],
   "source": [
    "import numpy as np\n",
    "import cv2\n",
    "\n",
    "import os\n",
    "import random\n",
    "import pickle"
   ],
   "metadata": {
    "collapsed": false,
    "ExecuteTime": {
     "end_time": "2023-10-02T09:12:37.454794900Z",
     "start_time": "2023-10-02T09:12:36.721491500Z"
    }
   }
  },
  {
   "cell_type": "markdown",
   "source": [
    "# Create dataset"
   ],
   "metadata": {
    "collapsed": false
   }
  },
  {
   "cell_type": "code",
   "execution_count": 21,
   "outputs": [],
   "source": [
    "categories = ['yes', 'no']\n",
    "image_size = 150\n",
    "images_per_category = 98\n",
    "training_data = []\n",
    "\n",
    "def create_training_data():\n",
    "    for category in categories:\n",
    "        path = os.path.join(\"dataset/brain_tumor_dataset\", category)\n",
    "        pictures = os.listdir(path)\n",
    "        random.shuffle(pictures)\n",
    "        class_idx = categories.index(category)\n",
    "        selected_pictures = pictures[:images_per_category]\n",
    "        #print(path)\n",
    "        for img in selected_pictures:\n",
    "            try:\n",
    "                img_array = cv2.imread(os.path.join(path, img), cv2.IMREAD_GRAYSCALE)\n",
    "                new_array = cv2.resize(img_array, (image_size, image_size))\n",
    "                training_data.append([new_array, class_idx])\n",
    "            except Exception as e:\n",
    "                print(e)\n",
    "\n",
    "create_training_data()"
   ],
   "metadata": {
    "collapsed": false,
    "ExecuteTime": {
     "end_time": "2023-10-01T10:44:14.944617400Z",
     "start_time": "2023-10-01T10:44:13.623878900Z"
    }
   }
  },
  {
   "cell_type": "code",
   "execution_count": 25,
   "outputs": [],
   "source": [
    "X = []\n",
    "y = []\n",
    "\n",
    "for feature, label in training_data:\n",
    "    X.append(feature)\n",
    "    y.append(label)\n",
    "\n",
    "X = np.array(X).reshape(-1, image_size, image_size, 1)"
   ],
   "metadata": {
    "collapsed": false,
    "ExecuteTime": {
     "end_time": "2023-10-01T10:44:59.201826200Z",
     "start_time": "2023-10-01T10:44:59.178813200Z"
    }
   }
  },
  {
   "cell_type": "code",
   "execution_count": 29,
   "outputs": [],
   "source": [
    "pickle_out = open(\"X.pickle\", \"wb\")\n",
    "pickle.dump(X, pickle_out)\n",
    "pickle_out.close()\n",
    "\n",
    "pickle_out = open(\"y.pickle\", \"wb\")\n",
    "pickle.dump(y, pickle_out)\n",
    "pickle_out.close()"
   ],
   "metadata": {
    "collapsed": false,
    "ExecuteTime": {
     "end_time": "2023-10-01T10:58:56.574568600Z",
     "start_time": "2023-10-01T10:58:56.550172400Z"
    }
   }
  },
  {
   "cell_type": "markdown",
   "source": [
    "# Model training"
   ],
   "metadata": {
    "collapsed": false
   }
  },
  {
   "cell_type": "code",
   "execution_count": 2,
   "outputs": [
    {
     "name": "stdout",
     "output_type": "stream",
     "text": [
      "WARNING:tensorflow:From C:\\Users\\PC\\AppData\\Roaming\\Python\\Python311\\site-packages\\tensorflow\\python\\ops\\distributions\\distribution.py:259: ReparameterizationType.__init__ (from tensorflow.python.ops.distributions.distribution) is deprecated and will be removed after 2019-01-01.\n",
      "Instructions for updating:\n",
      "The TensorFlow Distributions library has moved to TensorFlow Probability (https://github.com/tensorflow/probability). You should update all references to use `tfp.distributions` instead of `tf.distributions`.\n",
      "WARNING:tensorflow:From C:\\Users\\PC\\AppData\\Roaming\\Python\\Python311\\site-packages\\tensorflow\\python\\ops\\distributions\\bernoulli.py:165: RegisterKL.__init__ (from tensorflow.python.ops.distributions.kullback_leibler) is deprecated and will be removed after 2019-01-01.\n",
      "Instructions for updating:\n",
      "The TensorFlow Distributions library has moved to TensorFlow Probability (https://github.com/tensorflow/probability). You should update all references to use `tfp.distributions` instead of `tf.distributions`.\n"
     ]
    }
   ],
   "source": [
    "from sklearn.model_selection import train_test_split\n",
    "import matplotlib.pyplot as plt\n",
    "\n",
    "import tensorflow as tf\n",
    "from tensorflow.keras.models import Sequential\n",
    "from tensorflow.keras.layers import Dense, Dropout, Activation, Flatten\n",
    "from tensorflow.keras.layers import Conv2D, MaxPooling2D, AveragePooling2D\n",
    "from keras import regularizers\n",
    "from tensorflow.keras.callbacks import TensorBoard\n",
    "\n",
    "from tensorflow.keras.optimizers.schedules import ExponentialDecay\n",
    "from tensorflow.keras.optimizers import Adam"
   ],
   "metadata": {
    "collapsed": false,
    "ExecuteTime": {
     "end_time": "2023-10-01T19:57:52.551182100Z",
     "start_time": "2023-10-01T19:57:34.912000200Z"
    }
   }
  },
  {
   "cell_type": "code",
   "execution_count": 3,
   "outputs": [],
   "source": [
    "pickle_X_in = open(\"X.pickle\", \"rb\")\n",
    "X = pickle.load(pickle_X_in)\n",
    "\n",
    "pickle_y_in = open(\"y.pickle\", \"rb\")\n",
    "y = pickle.load(pickle_y_in)\n",
    "\n",
    "X = X/255.0\n",
    "\n",
    "X_train, X_val,y_train, y_val = train_test_split(X, y, test_size=0.1, random_state=241)\n",
    "y_train = np.array(y_train)\n",
    "y_val = np.array(y_val)"
   ],
   "metadata": {
    "collapsed": false,
    "ExecuteTime": {
     "end_time": "2023-10-01T19:57:57.676016Z",
     "start_time": "2023-10-01T19:57:57.533487Z"
    }
   }
  },
  {
   "cell_type": "code",
   "execution_count": 4,
   "outputs": [
    {
     "name": "stdout",
     "output_type": "stream",
     "text": [
      "[[ 0  8]\n",
      " [ 1 12]]\n"
     ]
    }
   ],
   "source": [
    "unique_val, counts_val = np.unique(y_val, return_counts=True)\n",
    "print(np.asarray((unique_val, counts_val)).T)"
   ],
   "metadata": {
    "collapsed": false,
    "ExecuteTime": {
     "end_time": "2023-10-01T16:20:44.750429500Z",
     "start_time": "2023-10-01T16:20:44.728195600Z"
    }
   }
  },
  {
   "cell_type": "code",
   "execution_count": 5,
   "outputs": [
    {
     "name": "stdout",
     "output_type": "stream",
     "text": [
      "[[ 0 90]\n",
      " [ 1 86]]\n"
     ]
    }
   ],
   "source": [
    "unique_train, counts_train = np.unique(y_train, return_counts=True)\n",
    "print(np.asarray((unique_train, counts_train)).T)  # classed are balanced"
   ],
   "metadata": {
    "collapsed": false,
    "ExecuteTime": {
     "end_time": "2023-10-01T16:20:45.882256900Z",
     "start_time": "2023-10-01T16:20:45.866614700Z"
    }
   }
  },
  {
   "cell_type": "code",
   "execution_count": 6,
   "outputs": [
    {
     "data": {
      "text/plain": "(150, 150, 1)"
     },
     "execution_count": 6,
     "metadata": {},
     "output_type": "execute_result"
    }
   ],
   "source": [
    "X_train[0].shape"
   ],
   "metadata": {
    "collapsed": false,
    "ExecuteTime": {
     "end_time": "2023-10-01T16:20:47.854961200Z",
     "start_time": "2023-10-01T16:20:47.824367300Z"
    }
   }
  },
  {
   "cell_type": "code",
   "execution_count": 4,
   "outputs": [
    {
     "name": "stdout",
     "output_type": "stream",
     "text": [
      "Epoch 1/50\n",
      "6/6 [==============================] - 23s 3s/step - loss: 3.2657 - accuracy: 0.5170 - val_loss: 3.3214 - val_accuracy: 0.4000\n",
      "Epoch 2/50\n",
      "6/6 [==============================] - 16s 2s/step - loss: 3.1851 - accuracy: 0.6250 - val_loss: 3.0693 - val_accuracy: 0.7500\n",
      "Epoch 3/50\n",
      "6/6 [==============================] - 22s 4s/step - loss: 3.0672 - accuracy: 0.7500 - val_loss: 3.0446 - val_accuracy: 0.6500\n",
      "Epoch 4/50\n",
      "6/6 [==============================] - 21s 4s/step - loss: 3.0090 - accuracy: 0.7386 - val_loss: 2.9722 - val_accuracy: 0.7500\n",
      "Epoch 5/50\n",
      "6/6 [==============================] - 20s 3s/step - loss: 2.9508 - accuracy: 0.7330 - val_loss: 2.9310 - val_accuracy: 0.7500\n",
      "Epoch 6/50\n",
      "6/6 [==============================] - 22s 4s/step - loss: 2.8993 - accuracy: 0.7443 - val_loss: 2.8862 - val_accuracy: 0.7500\n",
      "Epoch 7/50\n",
      "6/6 [==============================] - 19s 3s/step - loss: 2.8609 - accuracy: 0.7443 - val_loss: 2.8501 - val_accuracy: 0.7500\n",
      "Epoch 8/50\n",
      "6/6 [==============================] - 19s 3s/step - loss: 2.8174 - accuracy: 0.7273 - val_loss: 2.8077 - val_accuracy: 0.7500\n",
      "Epoch 9/50\n",
      "6/6 [==============================] - 18s 3s/step - loss: 2.7577 - accuracy: 0.7500 - val_loss: 2.8378 - val_accuracy: 0.7000\n",
      "Epoch 10/50\n",
      "6/6 [==============================] - 17s 3s/step - loss: 2.7152 - accuracy: 0.7841 - val_loss: 2.7597 - val_accuracy: 0.7000\n",
      "Epoch 11/50\n",
      "6/6 [==============================] - 17s 3s/step - loss: 2.6640 - accuracy: 0.8011 - val_loss: 2.7239 - val_accuracy: 0.7000\n",
      "Epoch 12/50\n",
      "6/6 [==============================] - 19s 3s/step - loss: 2.6296 - accuracy: 0.8011 - val_loss: 2.7191 - val_accuracy: 0.6500\n",
      "Epoch 13/50\n",
      "6/6 [==============================] - 16s 3s/step - loss: 2.5892 - accuracy: 0.7670 - val_loss: 2.6470 - val_accuracy: 0.7000\n",
      "Epoch 14/50\n",
      "6/6 [==============================] - 19s 3s/step - loss: 2.5216 - accuracy: 0.8068 - val_loss: 2.7060 - val_accuracy: 0.7000\n",
      "Epoch 15/50\n",
      "6/6 [==============================] - 18s 3s/step - loss: 2.4942 - accuracy: 0.8068 - val_loss: 2.5863 - val_accuracy: 0.7000\n",
      "Epoch 16/50\n",
      "6/6 [==============================] - 15s 2s/step - loss: 2.4496 - accuracy: 0.8068 - val_loss: 2.6058 - val_accuracy: 0.6500\n",
      "Epoch 17/50\n",
      "6/6 [==============================] - 17s 3s/step - loss: 2.4285 - accuracy: 0.8011 - val_loss: 2.5536 - val_accuracy: 0.6500\n",
      "Epoch 18/50\n",
      "6/6 [==============================] - 15s 2s/step - loss: 2.3996 - accuracy: 0.7784 - val_loss: 2.4967 - val_accuracy: 0.7000\n",
      "Epoch 19/50\n",
      "6/6 [==============================] - 13s 2s/step - loss: 2.3259 - accuracy: 0.8295 - val_loss: 2.5662 - val_accuracy: 0.6500\n",
      "Epoch 20/50\n",
      "6/6 [==============================] - 14s 2s/step - loss: 2.2944 - accuracy: 0.8295 - val_loss: 2.4707 - val_accuracy: 0.7500\n",
      "Epoch 21/50\n",
      "6/6 [==============================] - 14s 2s/step - loss: 2.2401 - accuracy: 0.8580 - val_loss: 2.4698 - val_accuracy: 0.7000\n",
      "Epoch 22/50\n",
      "6/6 [==============================] - 13s 2s/step - loss: 2.2001 - accuracy: 0.8580 - val_loss: 2.4708 - val_accuracy: 0.7000\n",
      "Epoch 23/50\n",
      "6/6 [==============================] - 15s 2s/step - loss: 2.1613 - accuracy: 0.8580 - val_loss: 2.4280 - val_accuracy: 0.7000\n",
      "Epoch 24/50\n",
      "6/6 [==============================] - 15s 3s/step - loss: 2.1382 - accuracy: 0.8636 - val_loss: 2.4617 - val_accuracy: 0.7000\n",
      "Epoch 25/50\n",
      "6/6 [==============================] - 15s 3s/step - loss: 2.1151 - accuracy: 0.8750 - val_loss: 2.3906 - val_accuracy: 0.7000\n",
      "Epoch 26/50\n",
      "6/6 [==============================] - 15s 3s/step - loss: 2.0616 - accuracy: 0.8693 - val_loss: 2.3701 - val_accuracy: 0.6500\n",
      "Epoch 27/50\n",
      "6/6 [==============================] - 16s 3s/step - loss: 2.0312 - accuracy: 0.8807 - val_loss: 2.3788 - val_accuracy: 0.7000\n",
      "Epoch 28/50\n",
      "6/6 [==============================] - 15s 3s/step - loss: 1.9771 - accuracy: 0.8977 - val_loss: 2.3376 - val_accuracy: 0.6500\n",
      "Epoch 29/50\n",
      "6/6 [==============================] - 13s 2s/step - loss: 1.9491 - accuracy: 0.9034 - val_loss: 2.3439 - val_accuracy: 0.7500\n",
      "Epoch 30/50\n",
      "6/6 [==============================] - 15s 2s/step - loss: 1.9117 - accuracy: 0.9148 - val_loss: 2.3164 - val_accuracy: 0.6500\n",
      "Epoch 31/50\n",
      "6/6 [==============================] - 14s 2s/step - loss: 1.8738 - accuracy: 0.9034 - val_loss: 2.3197 - val_accuracy: 0.7000\n",
      "Epoch 32/50\n",
      "6/6 [==============================] - 16s 3s/step - loss: 1.8544 - accuracy: 0.9091 - val_loss: 2.3197 - val_accuracy: 0.7500\n",
      "Epoch 33/50\n",
      "6/6 [==============================] - 16s 3s/step - loss: 1.8212 - accuracy: 0.9261 - val_loss: 2.2677 - val_accuracy: 0.7000\n",
      "Epoch 34/50\n",
      "6/6 [==============================] - 14s 2s/step - loss: 1.7976 - accuracy: 0.9261 - val_loss: 2.2917 - val_accuracy: 0.7500\n",
      "Epoch 35/50\n",
      "6/6 [==============================] - 16s 3s/step - loss: 1.7543 - accuracy: 0.9318 - val_loss: 2.2491 - val_accuracy: 0.6500\n",
      "Epoch 36/50\n",
      "6/6 [==============================] - 14s 2s/step - loss: 1.7376 - accuracy: 0.9375 - val_loss: 2.2857 - val_accuracy: 0.8000\n",
      "Epoch 37/50\n",
      "6/6 [==============================] - 15s 3s/step - loss: 1.7056 - accuracy: 0.9375 - val_loss: 2.2705 - val_accuracy: 0.8000\n",
      "Epoch 38/50\n",
      "6/6 [==============================] - 16s 3s/step - loss: 1.6738 - accuracy: 0.9432 - val_loss: 2.2120 - val_accuracy: 0.7000\n",
      "Epoch 39/50\n",
      "6/6 [==============================] - 11s 2s/step - loss: 1.6432 - accuracy: 0.9375 - val_loss: 2.2959 - val_accuracy: 0.8000\n",
      "Epoch 40/50\n",
      "6/6 [==============================] - 11s 2s/step - loss: 1.6143 - accuracy: 0.9602 - val_loss: 2.1725 - val_accuracy: 0.7000\n",
      "Epoch 41/50\n",
      "6/6 [==============================] - 13s 2s/step - loss: 1.5948 - accuracy: 0.9773 - val_loss: 2.2551 - val_accuracy: 0.8000\n",
      "Epoch 42/50\n",
      "6/6 [==============================] - 13s 2s/step - loss: 1.5502 - accuracy: 0.9830 - val_loss: 2.1784 - val_accuracy: 0.7000\n",
      "Epoch 43/50\n",
      "6/6 [==============================] - 11s 2s/step - loss: 1.5207 - accuracy: 0.9773 - val_loss: 2.2166 - val_accuracy: 0.7500\n",
      "Epoch 44/50\n",
      "6/6 [==============================] - 13s 2s/step - loss: 1.4943 - accuracy: 0.9886 - val_loss: 2.2140 - val_accuracy: 0.7000\n",
      "Epoch 45/50\n",
      "6/6 [==============================] - 11s 2s/step - loss: 1.4665 - accuracy: 0.9773 - val_loss: 2.2185 - val_accuracy: 0.7000\n",
      "Epoch 46/50\n",
      "6/6 [==============================] - 12s 2s/step - loss: 1.4420 - accuracy: 0.9943 - val_loss: 2.2536 - val_accuracy: 0.7000\n",
      "Epoch 47/50\n",
      "6/6 [==============================] - 11s 2s/step - loss: 1.4214 - accuracy: 0.9830 - val_loss: 2.2354 - val_accuracy: 0.7000\n",
      "Epoch 48/50\n",
      "6/6 [==============================] - 13s 2s/step - loss: 1.3978 - accuracy: 0.9943 - val_loss: 2.2467 - val_accuracy: 0.7000\n",
      "Epoch 49/50\n",
      "6/6 [==============================] - 13s 2s/step - loss: 1.3682 - accuracy: 1.0000 - val_loss: 2.2449 - val_accuracy: 0.7000\n",
      "Epoch 50/50\n",
      "6/6 [==============================] - 13s 2s/step - loss: 1.3471 - accuracy: 1.0000 - val_loss: 2.2790 - val_accuracy: 0.7000\n"
     ]
    }
   ],
   "source": [
    "model = Sequential([\n",
    "    Conv2D(128, (2, 2), activation=\"tanh\", kernel_regularizer=regularizers.l2(0.01)),\n",
    "    AveragePooling2D(pool_size=(2, 2)),\n",
    "\n",
    "    Conv2D(128, (2, 2), activation=\"tanh\", kernel_regularizer=regularizers.l2(0.01)),\n",
    "    AveragePooling2D(pool_size=(2, 2)),\n",
    "\n",
    "    Conv2D(128, (2, 2), activation=\"tanh\", kernel_regularizer=regularizers.l2(0.01)),\n",
    "    AveragePooling2D(pool_size=(2, 2)),\n",
    "\n",
    "    Flatten(),\n",
    "    Dense(128, activation=\"tanh\"),\n",
    "    Dense(1, activation=\"sigmoid\")\n",
    "])\n",
    "\n",
    "learning_rate_schedule = ExponentialDecay( 0.0001, 1500, 0.8 )\n",
    "\n",
    "opt = Adam(learning_rate=learning_rate_schedule)\n",
    "\n",
    "model.compile(\n",
    "    loss='binary_crossentropy',\n",
    "    optimizer=opt,\n",
    "    metrics = ['accuracy']\n",
    ")\n",
    "\n",
    "history = model.fit(X_train,\n",
    "                    y_train,\n",
    "                    batch_size=32,\n",
    "                    epochs=50,\n",
    "                    validation_data=(X_val, y_val),\n",
    "                    shuffle=True\n",
    ")"
   ],
   "metadata": {
    "collapsed": false,
    "ExecuteTime": {
     "end_time": "2023-10-01T20:11:08.104506900Z",
     "start_time": "2023-10-01T19:58:12.079800800Z"
    }
   }
  },
  {
   "cell_type": "code",
   "execution_count": 7,
   "outputs": [],
   "source": [
    "model.save(\"model.keras\")"
   ],
   "metadata": {
    "collapsed": false,
    "ExecuteTime": {
     "end_time": "2023-10-01T20:11:51.694893700Z",
     "start_time": "2023-10-01T20:11:51.016714Z"
    }
   }
  },
  {
   "cell_type": "code",
   "execution_count": 12,
   "outputs": [
    {
     "data": {
      "text/plain": "<Figure size 600x600 with 1 Axes>",
      "image/png": "[encoded data removed]"
     },
     "metadata": {},
     "output_type": "display_data"
    },
    {
     "data": {
      "text/plain": "<Figure size 640x480 with 0 Axes>"
     },
     "metadata": {},
     "output_type": "display_data"
    }
   ],
   "source": [
    "plt.figure(figsize=(6, 6))\n",
    "plt.plot(range(50), history.history['val_accuracy'], label='Validation Accuracy')\n",
    "plt.plot(range(50), history.history['accuracy'], label='Training Accuracy')\n",
    "plt.legend()\n",
    "plt.title(\"Validation Accuracy VS Training Accuracy\")\n",
    "plt.show()\n",
    "\n",
    "plt.savefig(\"Validation_Accuracy_VS_Training_Accuracy.jpeg\")"
   ],
   "metadata": {
    "collapsed": false,
    "ExecuteTime": {
     "end_time": "2023-10-01T20:15:09.797120100Z",
     "start_time": "2023-10-01T20:15:09.438903200Z"
    }
   }
  }
 ],
 "metadata": {
  "kernelspec": {
   "display_name": "Python 3",
   "language": "python",
   "name": "python3"
  },
  "language_info": {
   "codemirror_mode": {
    "name": "ipython",
    "version": 2
   },
   "file_extension": ".py",
   "mimetype": "text/x-python",
   "name": "python",
   "nbconvert_exporter": "python",
   "pygments_lexer": "ipython2",
   "version": "2.7.6"
  }
 },
 "nbformat": 4,
 "nbformat_minor": 0
}
